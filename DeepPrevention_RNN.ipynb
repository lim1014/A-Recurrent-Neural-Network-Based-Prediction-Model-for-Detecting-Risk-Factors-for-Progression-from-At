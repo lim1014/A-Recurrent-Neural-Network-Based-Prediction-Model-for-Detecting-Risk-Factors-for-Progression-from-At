{
 "cells": [
  {
   "cell_type": "code",
   "execution_count": 1,
   "metadata": {},
   "outputs": [],
   "source": [
    "import pandas as pd\n",
    "import numpy as np\n",
    "from collections import Counter\n",
    "import tensorflow as tf\n",
    "\n",
    "np.random.seed(3)\n",
    "tf.random.set_seed(3)"
   ]
  },
  {
   "cell_type": "markdown",
   "metadata": {},
   "source": [
    "### Dataset setting"
   ]
  },
  {
   "cell_type": "code",
   "execution_count": 2,
   "metadata": {},
   "outputs": [],
   "source": [
    "cg = pd.read_csv('Health_checkup_data.csv')\n",
    "\n",
    "cg_df = pd.DataFrame(cg)\n",
    "cg_df = cg_df.sort_values(by=['person_id','test_age'])"
   ]
  },
  {
   "cell_type": "code",
   "execution_count": 3,
   "metadata": {},
   "outputs": [
    {
     "data": {
      "text/plain": [
       "Counter({0: 36377, 1: 1761})"
      ]
     },
     "execution_count": 3,
     "metadata": {},
     "output_type": "execute_result"
    }
   ],
   "source": [
    "Counter(cg_df['cancer']) # label with duplicates"
   ]
  },
  {
   "cell_type": "code",
   "execution_count": 4,
   "metadata": {},
   "outputs": [],
   "source": [
    "persons=list(set(cg_df['person_id'].tolist()))\n",
    "persons.sort()\n",
    "\n",
    "test_p = persons[int(len(persons)*0.7):] "
   ]
  },
  {
   "cell_type": "code",
   "execution_count": 5,
   "metadata": {},
   "outputs": [],
   "source": [
    "cg_y = cg_df.loc[:,['person_id','cancer']]\n",
    "cg_y = cg_y.drop_duplicates(['person_id'])"
   ]
  },
  {
   "cell_type": "code",
   "execution_count": 6,
   "metadata": {},
   "outputs": [
    {
     "data": {
      "text/plain": [
       "Counter({0: 18846, 1: 610})"
      ]
     },
     "execution_count": 6,
     "metadata": {},
     "output_type": "execute_result"
    }
   ],
   "source": [
    "Counter(cg_y['cancer']) # Label without duplicates"
   ]
  },
  {
   "cell_type": "code",
   "execution_count": 7,
   "metadata": {},
   "outputs": [
    {
     "data": {
      "text/html": [
       "<div>\n",
       "<style scoped>\n",
       "    .dataframe tbody tr th:only-of-type {\n",
       "        vertical-align: middle;\n",
       "    }\n",
       "\n",
       "    .dataframe tbody tr th {\n",
       "        vertical-align: top;\n",
       "    }\n",
       "\n",
       "    .dataframe thead th {\n",
       "        text-align: right;\n",
       "    }\n",
       "</style>\n",
       "<table border=\"1\" class=\"dataframe\">\n",
       "  <thead>\n",
       "    <tr style=\"text-align: right;\">\n",
       "      <th></th>\n",
       "      <th>person_id</th>\n",
       "      <th>gender</th>\n",
       "      <th>age</th>\n",
       "      <th>test_age</th>\n",
       "      <th>EGD</th>\n",
       "      <th>bmi</th>\n",
       "      <th>alcohol_habit</th>\n",
       "      <th>smoking status</th>\n",
       "      <th>smoking_duration</th>\n",
       "      <th>amount of smoking</th>\n",
       "      <th>income</th>\n",
       "      <th>family_cancer</th>\n",
       "      <th>current_status</th>\n",
       "      <th>exercise</th>\n",
       "      <th>cancer</th>\n",
       "      <th>date</th>\n",
       "    </tr>\n",
       "  </thead>\n",
       "  <tbody>\n",
       "    <tr>\n",
       "      <th>7040</th>\n",
       "      <td>10006595</td>\n",
       "      <td>0</td>\n",
       "      <td>51.0</td>\n",
       "      <td>44.0</td>\n",
       "      <td>NaN</td>\n",
       "      <td>22.02</td>\n",
       "      <td>3.0</td>\n",
       "      <td>3.0</td>\n",
       "      <td>4</td>\n",
       "      <td>2</td>\n",
       "      <td>9.0</td>\n",
       "      <td>1</td>\n",
       "      <td>0</td>\n",
       "      <td>1.0</td>\n",
       "      <td>0</td>\n",
       "      <td>2013</td>\n",
       "    </tr>\n",
       "    <tr>\n",
       "      <th>34558</th>\n",
       "      <td>10101102</td>\n",
       "      <td>0</td>\n",
       "      <td>84.0</td>\n",
       "      <td>67.0</td>\n",
       "      <td>NaN</td>\n",
       "      <td>26.81</td>\n",
       "      <td>2.0</td>\n",
       "      <td>3.0</td>\n",
       "      <td>5</td>\n",
       "      <td>2</td>\n",
       "      <td>8.0</td>\n",
       "      <td>1</td>\n",
       "      <td>0</td>\n",
       "      <td>1.0</td>\n",
       "      <td>0</td>\n",
       "      <td>2003</td>\n",
       "    </tr>\n",
       "    <tr>\n",
       "      <th>26262</th>\n",
       "      <td>10101102</td>\n",
       "      <td>0</td>\n",
       "      <td>84.0</td>\n",
       "      <td>69.0</td>\n",
       "      <td>NaN</td>\n",
       "      <td>25.54</td>\n",
       "      <td>2.0</td>\n",
       "      <td>3.0</td>\n",
       "      <td>4</td>\n",
       "      <td>1</td>\n",
       "      <td>8.0</td>\n",
       "      <td>1</td>\n",
       "      <td>0</td>\n",
       "      <td>0.0</td>\n",
       "      <td>0</td>\n",
       "      <td>2005</td>\n",
       "    </tr>\n",
       "    <tr>\n",
       "      <th>17171</th>\n",
       "      <td>10113905</td>\n",
       "      <td>0</td>\n",
       "      <td>86.0</td>\n",
       "      <td>69.0</td>\n",
       "      <td>NaN</td>\n",
       "      <td>23.67</td>\n",
       "      <td>3.0</td>\n",
       "      <td>3.0</td>\n",
       "      <td>5</td>\n",
       "      <td>1</td>\n",
       "      <td>9.0</td>\n",
       "      <td>1</td>\n",
       "      <td>0</td>\n",
       "      <td>0.0</td>\n",
       "      <td>0</td>\n",
       "      <td>2003</td>\n",
       "    </tr>\n",
       "    <tr>\n",
       "      <th>22702</th>\n",
       "      <td>10113905</td>\n",
       "      <td>0</td>\n",
       "      <td>86.0</td>\n",
       "      <td>73.0</td>\n",
       "      <td>NaN</td>\n",
       "      <td>23.03</td>\n",
       "      <td>2.0</td>\n",
       "      <td>3.0</td>\n",
       "      <td>5</td>\n",
       "      <td>2</td>\n",
       "      <td>7.0</td>\n",
       "      <td>1</td>\n",
       "      <td>0</td>\n",
       "      <td>0.0</td>\n",
       "      <td>0</td>\n",
       "      <td>2007</td>\n",
       "    </tr>\n",
       "    <tr>\n",
       "      <th>...</th>\n",
       "      <td>...</td>\n",
       "      <td>...</td>\n",
       "      <td>...</td>\n",
       "      <td>...</td>\n",
       "      <td>...</td>\n",
       "      <td>...</td>\n",
       "      <td>...</td>\n",
       "      <td>...</td>\n",
       "      <td>...</td>\n",
       "      <td>...</td>\n",
       "      <td>...</td>\n",
       "      <td>...</td>\n",
       "      <td>...</td>\n",
       "      <td>...</td>\n",
       "      <td>...</td>\n",
       "      <td>...</td>\n",
       "    </tr>\n",
       "    <tr>\n",
       "      <th>724</th>\n",
       "      <td>53369201</td>\n",
       "      <td>0</td>\n",
       "      <td>74.0</td>\n",
       "      <td>56.0</td>\n",
       "      <td>NaN</td>\n",
       "      <td>NaN</td>\n",
       "      <td>1.0</td>\n",
       "      <td>3.0</td>\n",
       "      <td>4</td>\n",
       "      <td>1</td>\n",
       "      <td>7.0</td>\n",
       "      <td>1</td>\n",
       "      <td>0</td>\n",
       "      <td>0.0</td>\n",
       "      <td>1</td>\n",
       "      <td>2002</td>\n",
       "    </tr>\n",
       "    <tr>\n",
       "      <th>21162</th>\n",
       "      <td>53369201</td>\n",
       "      <td>0</td>\n",
       "      <td>74.0</td>\n",
       "      <td>58.0</td>\n",
       "      <td>NaN</td>\n",
       "      <td>NaN</td>\n",
       "      <td>1.0</td>\n",
       "      <td>3.0</td>\n",
       "      <td>5</td>\n",
       "      <td>1</td>\n",
       "      <td>8.0</td>\n",
       "      <td>1</td>\n",
       "      <td>0</td>\n",
       "      <td>0.0</td>\n",
       "      <td>1</td>\n",
       "      <td>2004</td>\n",
       "    </tr>\n",
       "    <tr>\n",
       "      <th>21163</th>\n",
       "      <td>53369201</td>\n",
       "      <td>0</td>\n",
       "      <td>74.0</td>\n",
       "      <td>58.0</td>\n",
       "      <td>NaN</td>\n",
       "      <td>NaN</td>\n",
       "      <td>1.0</td>\n",
       "      <td>3.0</td>\n",
       "      <td>5</td>\n",
       "      <td>1</td>\n",
       "      <td>8.0</td>\n",
       "      <td>1</td>\n",
       "      <td>0</td>\n",
       "      <td>0.0</td>\n",
       "      <td>1</td>\n",
       "      <td>2004</td>\n",
       "    </tr>\n",
       "    <tr>\n",
       "      <th>4580</th>\n",
       "      <td>53369201</td>\n",
       "      <td>0</td>\n",
       "      <td>74.0</td>\n",
       "      <td>60.0</td>\n",
       "      <td>NaN</td>\n",
       "      <td>NaN</td>\n",
       "      <td>1.0</td>\n",
       "      <td>3.0</td>\n",
       "      <td>5</td>\n",
       "      <td>1</td>\n",
       "      <td>8.0</td>\n",
       "      <td>1</td>\n",
       "      <td>0</td>\n",
       "      <td>0.0</td>\n",
       "      <td>1</td>\n",
       "      <td>2006</td>\n",
       "    </tr>\n",
       "    <tr>\n",
       "      <th>4581</th>\n",
       "      <td>53369201</td>\n",
       "      <td>0</td>\n",
       "      <td>74.0</td>\n",
       "      <td>60.0</td>\n",
       "      <td>NaN</td>\n",
       "      <td>NaN</td>\n",
       "      <td>1.0</td>\n",
       "      <td>3.0</td>\n",
       "      <td>5</td>\n",
       "      <td>1</td>\n",
       "      <td>8.0</td>\n",
       "      <td>1</td>\n",
       "      <td>0</td>\n",
       "      <td>0.0</td>\n",
       "      <td>1</td>\n",
       "      <td>2006</td>\n",
       "    </tr>\n",
       "  </tbody>\n",
       "</table>\n",
       "<p>38138 rows × 16 columns</p>\n",
       "</div>"
      ],
      "text/plain": [
       "       person_id  gender   age  test_age  EGD    bmi  alcohol_habit  \\\n",
       "7040    10006595       0  51.0      44.0  NaN  22.02            3.0   \n",
       "34558   10101102       0  84.0      67.0  NaN  26.81            2.0   \n",
       "26262   10101102       0  84.0      69.0  NaN  25.54            2.0   \n",
       "17171   10113905       0  86.0      69.0  NaN  23.67            3.0   \n",
       "22702   10113905       0  86.0      73.0  NaN  23.03            2.0   \n",
       "...          ...     ...   ...       ...  ...    ...            ...   \n",
       "724     53369201       0  74.0      56.0  NaN    NaN            1.0   \n",
       "21162   53369201       0  74.0      58.0  NaN    NaN            1.0   \n",
       "21163   53369201       0  74.0      58.0  NaN    NaN            1.0   \n",
       "4580    53369201       0  74.0      60.0  NaN    NaN            1.0   \n",
       "4581    53369201       0  74.0      60.0  NaN    NaN            1.0   \n",
       "\n",
       "       smoking status  smoking_duration  amount of smoking  income  \\\n",
       "7040              3.0                 4                  2     9.0   \n",
       "34558             3.0                 5                  2     8.0   \n",
       "26262             3.0                 4                  1     8.0   \n",
       "17171             3.0                 5                  1     9.0   \n",
       "22702             3.0                 5                  2     7.0   \n",
       "...               ...               ...                ...     ...   \n",
       "724               3.0                 4                  1     7.0   \n",
       "21162             3.0                 5                  1     8.0   \n",
       "21163             3.0                 5                  1     8.0   \n",
       "4580              3.0                 5                  1     8.0   \n",
       "4581              3.0                 5                  1     8.0   \n",
       "\n",
       "       family_cancer  current_status  exercise  cancer  date  \n",
       "7040               1               0       1.0       0  2013  \n",
       "34558              1               0       1.0       0  2003  \n",
       "26262              1               0       0.0       0  2005  \n",
       "17171              1               0       0.0       0  2003  \n",
       "22702              1               0       0.0       0  2007  \n",
       "...              ...             ...       ...     ...   ...  \n",
       "724                1               0       0.0       1  2002  \n",
       "21162              1               0       0.0       1  2004  \n",
       "21163              1               0       0.0       1  2004  \n",
       "4580               1               0       0.0       1  2006  \n",
       "4581               1               0       0.0       1  2006  \n",
       "\n",
       "[38138 rows x 16 columns]"
      ]
     },
     "execution_count": 7,
     "metadata": {},
     "output_type": "execute_result"
    }
   ],
   "source": [
    "cg_df"
   ]
  },
  {
   "cell_type": "markdown",
   "metadata": {},
   "source": [
    "### Pre-progressing Pipeline"
   ]
  },
  {
   "cell_type": "code",
   "execution_count": 8,
   "metadata": {},
   "outputs": [],
   "source": [
    "from sklearn.base import BaseEstimator, TransformerMixin\n",
    "from sklearn.pipeline import Pipeline\n",
    "from sklearn.impute import SimpleImputer\n",
    "from sklearn.preprocessing import OneHotEncoder\n",
    "from sklearn.preprocessing import StandardScaler\n",
    "\n",
    "\n",
    "class DataFrameSelector(BaseEstimator, TransformerMixin):\n",
    "    def __init__(self, attribute_names):\n",
    "        self.attribute_names=attribute_names\n",
    "    def fit(self, X, y=None):\n",
    "        return self\n",
    "    def transform(self, X):\n",
    "        return X[self.attribute_names]"
   ]
  },
  {
   "cell_type": "code",
   "execution_count": 9,
   "metadata": {},
   "outputs": [],
   "source": [
    "imputer=SimpleImputer(strategy=\"mean\")\n",
    "num_pipeline=Pipeline([\n",
    "    (\"select_numeric\",DataFrameSelector(['bmi','age','test_age'])),\n",
    "    (\"scaler\", StandardScaler()),\n",
    "    (\"imputer\", imputer)\n",
    "])\n",
    "\n",
    "imputer1=SimpleImputer(fill_value=0)\n",
    "num_pipeline1=Pipeline([\n",
    "    (\"select_numeric\",DataFrameSelector(['EGD'])),\n",
    "    (\"scaler\", StandardScaler()),\n",
    "    (\"imputer\", imputer1)\n",
    "])"
   ]
  },
  {
   "cell_type": "code",
   "execution_count": 10,
   "metadata": {},
   "outputs": [],
   "source": [
    "imputer=SimpleImputer(strategy=\"most_frequent\")\n",
    "cat_pipeline = Pipeline([\n",
    "    (\"select_cat\",DataFrameSelector(['gender','income','family_cancer','current_status'])),\n",
    "    (\"imputer\", imputer),\n",
    "    ])\n",
    "\n",
    "imputer1=SimpleImputer(fill_value=0)\n",
    "cat_pipeline1 = Pipeline([\n",
    "    (\"select_cat\",DataFrameSelector(['smoking status','smoking_duration','amount of smoking','alcohol_habit','exercise'])),\n",
    "    (\"imputer\", imputer1),\n",
    "    ])"
   ]
  },
  {
   "cell_type": "code",
   "execution_count": 11,
   "metadata": {},
   "outputs": [],
   "source": [
    "from sklearn.pipeline import FeatureUnion\n",
    "preprocess_pipeline = FeatureUnion(transformer_list=[\n",
    "    (\"num_pipeline\", num_pipeline),\n",
    "    (\"num_pipeline1\", num_pipeline1),\n",
    "    (\"cat_pipeline\", cat_pipeline),\n",
    "    (\"cat_pipeline1\", cat_pipeline1)])"
   ]
  },
  {
   "cell_type": "code",
   "execution_count": 12,
   "metadata": {},
   "outputs": [],
   "source": [
    "X=preprocess_pipeline.fit_transform(cg_df)"
   ]
  },
  {
   "cell_type": "markdown",
   "metadata": {},
   "source": [
    "### 3D matrix generation & Padding"
   ]
  },
  {
   "cell_type": "code",
   "execution_count": 13,
   "metadata": {},
   "outputs": [],
   "source": [
    "person_id = cg_df['person_id']\n",
    "ids = person_id.iloc[0]\n",
    "new_mat = []\n",
    "person=[]\n",
    "\n",
    "for i in range(len(cg_df)):  \n",
    "    if ids == person_id.iloc[i]:\n",
    "        person.append(X[i])\n",
    "        ids = person_id.iloc[i]\n",
    "    else:\n",
    "        new_mat.append(person)\n",
    "        person=[]\n",
    "        person.append(X[i])\n",
    "        ids = person_id.iloc[i]\n",
    "new_mat.append(person)"
   ]
  },
  {
   "cell_type": "code",
   "execution_count": 14,
   "metadata": {},
   "outputs": [
    {
     "data": {
      "text/plain": [
       "Counter({0: 18846, 1: 610})"
      ]
     },
     "execution_count": 14,
     "metadata": {},
     "output_type": "execute_result"
    }
   ],
   "source": [
    "y_label = cg_y['cancer'] # checking y_label\n",
    "Counter(y_label)"
   ]
  },
  {
   "cell_type": "code",
   "execution_count": 15,
   "metadata": {},
   "outputs": [
    {
     "name": "stdout",
     "output_type": "stream",
     "text": [
      "16\n"
     ]
    }
   ],
   "source": [
    "max_len=0\n",
    "for a in new_mat:\n",
    "    if len(a)>max_len:\n",
    "        max_len = len(a)\n",
    "        \n",
    "print(max_len) # padding length"
   ]
  },
  {
   "cell_type": "code",
   "execution_count": 16,
   "metadata": {},
   "outputs": [],
   "source": [
    "from tensorflow.keras.preprocessing.sequence import pad_sequences\n",
    "\n",
    "X_data = pad_sequences(new_mat, padding='post',dtype='float32',value=0, maxlen=max_len)"
   ]
  },
  {
   "cell_type": "code",
   "execution_count": 17,
   "metadata": {},
   "outputs": [],
   "source": [
    "X_data = tf.convert_to_tensor(X_data, dtype=tf.float32)"
   ]
  },
  {
   "cell_type": "markdown",
   "metadata": {},
   "source": [
    "### Split train data & test data"
   ]
  },
  {
   "cell_type": "code",
   "execution_count": 18,
   "metadata": {},
   "outputs": [],
   "source": [
    "from tensorflow.keras.utils import to_categorical"
   ]
  },
  {
   "cell_type": "code",
   "execution_count": 19,
   "metadata": {},
   "outputs": [],
   "source": [
    "y_label1 = to_categorical(y_label)"
   ]
  },
  {
   "cell_type": "code",
   "execution_count": 20,
   "metadata": {},
   "outputs": [],
   "source": [
    "train_x = X_data[:int(0.7*len(X_data))]\n",
    "test_x = X_data[int(0.7*len(X_data)):]\n",
    "\n",
    "train_y = y_label[:int(0.7*len(y_label))]\n",
    "train_y1 = to_categorical(train_y) \n",
    "\n",
    "test_y = y_label[int(0.7*len(y_label)):]\n",
    "test_y1 = to_categorical(test_y)"
   ]
  },
  {
   "cell_type": "markdown",
   "metadata": {},
   "source": [
    "### RNN Deep learning model loading"
   ]
  },
  {
   "cell_type": "code",
   "execution_count": 21,
   "metadata": {},
   "outputs": [],
   "source": [
    "import matplotlib as mpl\n",
    "import matplotlib.pyplot as plt\n",
    "from sklearn import metrics"
   ]
  },
  {
   "cell_type": "code",
   "execution_count": 22,
   "metadata": {},
   "outputs": [],
   "source": [
    "from tensorflow.keras.models import load_model\n",
    "from sklearn.metrics import confusion_matrix,classification_report\n",
    "from tensorflow.keras.utils import plot_model"
   ]
  },
  {
   "cell_type": "code",
   "execution_count": 23,
   "metadata": {},
   "outputs": [],
   "source": [
    "model = load_model('DeepPrevention_model.h5')"
   ]
  },
  {
   "cell_type": "code",
   "execution_count": 24,
   "metadata": {},
   "outputs": [
    {
     "data": {
      "image/png": "[encoded data removed]",
      "text/plain": [
       "<IPython.core.display.Image object>"
      ]
     },
     "execution_count": 24,
     "metadata": {},
     "output_type": "execute_result"
    }
   ],
   "source": [
    "plot_model(model)"
   ]
  },
  {
   "cell_type": "code",
   "execution_count": 25,
   "metadata": {},
   "outputs": [
    {
     "name": "stdout",
     "output_type": "stream",
     "text": [
      "Model: \"sequential_1\"\n",
      "_________________________________________________________________\n",
      "Layer (type)                 Output Shape              Param #   \n",
      "=================================================================\n",
      "simple_rnn_8 (SimpleRNN)     (None, 16, 64)            4992      \n",
      "_________________________________________________________________\n",
      "dropout_8 (Dropout)          (None, 16, 64)            0         \n",
      "_________________________________________________________________\n",
      "simple_rnn_9 (SimpleRNN)     (None, 16, 56)            6776      \n",
      "_________________________________________________________________\n",
      "dropout_9 (Dropout)          (None, 16, 56)            0         \n",
      "_________________________________________________________________\n",
      "simple_rnn_10 (SimpleRNN)    (None, 16, 48)            5040      \n",
      "_________________________________________________________________\n",
      "dropout_10 (Dropout)         (None, 16, 48)            0         \n",
      "_________________________________________________________________\n",
      "simple_rnn_11 (SimpleRNN)    (None, 16, 40)            3560      \n",
      "_________________________________________________________________\n",
      "dropout_11 (Dropout)         (None, 16, 40)            0         \n",
      "_________________________________________________________________\n",
      "simple_rnn_12 (SimpleRNN)    (None, 16, 32)            2336      \n",
      "_________________________________________________________________\n",
      "dropout_12 (Dropout)         (None, 16, 32)            0         \n",
      "_________________________________________________________________\n",
      "simple_rnn_13 (SimpleRNN)    (None, 16, 24)            1368      \n",
      "_________________________________________________________________\n",
      "dropout_13 (Dropout)         (None, 16, 24)            0         \n",
      "_________________________________________________________________\n",
      "simple_rnn_14 (SimpleRNN)    (None, 16, 16)            656       \n",
      "_________________________________________________________________\n",
      "dropout_14 (Dropout)         (None, 16, 16)            0         \n",
      "_________________________________________________________________\n",
      "simple_rnn_15 (SimpleRNN)    (None, 10)                270       \n",
      "_________________________________________________________________\n",
      "dropout_15 (Dropout)         (None, 10)                0         \n",
      "_________________________________________________________________\n",
      "dense_1 (Dense)              (None, 2)                 22        \n",
      "=================================================================\n",
      "Total params: 25,020\n",
      "Trainable params: 25,020\n",
      "Non-trainable params: 0\n",
      "_________________________________________________________________\n"
     ]
    }
   ],
   "source": [
    "model.summary()"
   ]
  },
  {
   "cell_type": "markdown",
   "metadata": {},
   "source": [
    "### Deep learning Training Result"
   ]
  },
  {
   "cell_type": "code",
   "execution_count": 26,
   "metadata": {},
   "outputs": [
    {
     "name": "stdout",
     "output_type": "stream",
     "text": [
      "13619/13619 [==============================] - 4s 276us/sample - loss: 0.0929 - accuracy: 0.9813\n",
      "train_loss : 0.09291765131441995, train_acc : 0.9813495874404907\n",
      "5837/5837 [==============================] - 1s 232us/sample - loss: 0.1079 - accuracy: 0.9764\n",
      "test_loss : 0.10792401879106826, test_acc : 0.9763576984405518\n"
     ]
    }
   ],
   "source": [
    "train_loss, train_acc  = model.evaluate(train_x, train_y1) #train data + validation data\n",
    "print(f'train_loss : {train_loss}, train_acc : {train_acc}')\n",
    "\n",
    "test_loss, test_acc = model.evaluate(test_x, test_y1) # test data\n",
    "print(f'test_loss : {test_loss}, test_acc : {test_acc}')"
   ]
  },
  {
   "cell_type": "code",
   "execution_count": 27,
   "metadata": {},
   "outputs": [],
   "source": [
    "predicted = model.predict(test_x)\n",
    "\n",
    "rnn=[item[1] for item in predicted]\n",
    "\n",
    "y_pred = [1 if item[1]>=0.8 else 0 for item in predicted]"
   ]
  },
  {
   "cell_type": "code",
   "execution_count": 28,
   "metadata": {},
   "outputs": [
    {
     "name": "stdout",
     "output_type": "stream",
     "text": [
      "Counter({0: 5650, 1: 187})\n",
      "Counter({0: 5719, 1: 118})\n"
     ]
    }
   ],
   "source": [
    "print(Counter(test_y))\n",
    "print(Counter(y_pred)) # prediction result"
   ]
  },
  {
   "cell_type": "code",
   "execution_count": 29,
   "metadata": {},
   "outputs": [
    {
     "data": {
      "text/plain": [
       "array([[  93,   94],\n",
       "       [  25, 5625]], dtype=int64)"
      ]
     },
     "execution_count": 29,
     "metadata": {},
     "output_type": "execute_result"
    }
   ],
   "source": [
    "confusion_matrix(test_y,y_pred,labels=[1,0])"
   ]
  },
  {
   "cell_type": "code",
   "execution_count": 30,
   "metadata": {},
   "outputs": [
    {
     "name": "stdout",
     "output_type": "stream",
     "text": [
      "              precision    recall  f1-score   support\n",
      "\n",
      "           0       0.98      1.00      0.99      5650\n",
      "           1       0.79      0.50      0.61       187\n",
      "\n",
      "    accuracy                           0.98      5837\n",
      "   macro avg       0.89      0.75      0.80      5837\n",
      "weighted avg       0.98      0.98      0.98      5837\n",
      "\n"
     ]
    }
   ],
   "source": [
    "print(classification_report(test_y,y_pred))"
   ]
  },
  {
   "cell_type": "code",
   "execution_count": 31,
   "metadata": {
    "scrolled": true
   },
   "outputs": [
    {
     "name": "stdout",
     "output_type": "stream",
     "text": [
      "0.8388036534002177\n"
     ]
    },
    {
     "data": {
      "image/png": "[encoded data removed]",
      "text/plain": [
       "<Figure size 432x288 with 1 Axes>"
      ]
     },
     "metadata": {
      "needs_background": "light"
     },
     "output_type": "display_data"
    }
   ],
   "source": [
    "mpl.rc('font', family='Malgun Gothic') #한글 폰트 설정\n",
    "fpr, tpr, thresholds = metrics.roc_curve(test_y, model.predict_proba(test_x)[:,1]) #곡선 그리기\n",
    "\n",
    "plt.plot(fpr, tpr)\n",
    "plt.fill_between(fpr, tpr, color='gray')\n",
    "plt.plot([0, 1], [0, 1], '--')\n",
    "plt.xlabel('False Positive Rate(1 - Specificity)')\n",
    "plt.ylabel('True Positive Rate(Sensitivity)')\n",
    "\n",
    "score = metrics.auc(fpr, tpr) #면적 구하기\n",
    "print(score) #1.0\n",
    "\n",
    "plt.title('ROC (Receiver Operating Characteristic) Curve (AUC = {})'.format(round(score,4)))\n",
    "plt.draw()\n",
    "#plt.savefig('auc.png',dpi=200)"
   ]
  },
  {
   "cell_type": "markdown",
   "metadata": {},
   "source": [
    "### Prediction Result + Medical check up DF"
   ]
  },
  {
   "cell_type": "code",
   "execution_count": 32,
   "metadata": {},
   "outputs": [],
   "source": [
    "pre_df = pd.DataFrame(data={'person_id': test_p, 'rnn' : rnn, 'y_pred' : y_pred, 'y_real' : test_y})\n",
    "pre_df = pre_df.sort_values(by=['rnn','person_id'], ascending=False)"
   ]
  },
  {
   "cell_type": "code",
   "execution_count": 33,
   "metadata": {},
   "outputs": [],
   "source": [
    "pre_df = pd.merge(pre_df,cg_df,how='left',on=['person_id'])"
   ]
  },
  {
   "cell_type": "code",
   "execution_count": 34,
   "metadata": {},
   "outputs": [
    {
     "data": {
      "text/html": [
       "<div>\n",
       "<style scoped>\n",
       "    .dataframe tbody tr th:only-of-type {\n",
       "        vertical-align: middle;\n",
       "    }\n",
       "\n",
       "    .dataframe tbody tr th {\n",
       "        vertical-align: top;\n",
       "    }\n",
       "\n",
       "    .dataframe thead th {\n",
       "        text-align: right;\n",
       "    }\n",
       "</style>\n",
       "<table border=\"1\" class=\"dataframe\">\n",
       "  <thead>\n",
       "    <tr style=\"text-align: right;\">\n",
       "      <th></th>\n",
       "      <th>person_id</th>\n",
       "      <th>rnn</th>\n",
       "      <th>y_pred</th>\n",
       "      <th>y_real</th>\n",
       "      <th>gender</th>\n",
       "      <th>age</th>\n",
       "      <th>test_age</th>\n",
       "      <th>EGD</th>\n",
       "      <th>bmi</th>\n",
       "      <th>alcohol_habit</th>\n",
       "      <th>smoking status</th>\n",
       "      <th>smoking_duration</th>\n",
       "      <th>amount of smoking</th>\n",
       "      <th>income</th>\n",
       "      <th>family_cancer</th>\n",
       "      <th>current_status</th>\n",
       "      <th>exercise</th>\n",
       "      <th>cancer</th>\n",
       "      <th>date</th>\n",
       "    </tr>\n",
       "  </thead>\n",
       "  <tbody>\n",
       "    <tr>\n",
       "      <th>0</th>\n",
       "      <td>41708664</td>\n",
       "      <td>0.974922</td>\n",
       "      <td>1</td>\n",
       "      <td>1</td>\n",
       "      <td>0</td>\n",
       "      <td>86.0</td>\n",
       "      <td>72.0</td>\n",
       "      <td>1.0</td>\n",
       "      <td>NaN</td>\n",
       "      <td>1.0</td>\n",
       "      <td>3.0</td>\n",
       "      <td>5</td>\n",
       "      <td>1</td>\n",
       "      <td>4.0</td>\n",
       "      <td>1</td>\n",
       "      <td>0</td>\n",
       "      <td>1.0</td>\n",
       "      <td>1</td>\n",
       "      <td>2006</td>\n",
       "    </tr>\n",
       "    <tr>\n",
       "      <th>1</th>\n",
       "      <td>41708664</td>\n",
       "      <td>0.974922</td>\n",
       "      <td>1</td>\n",
       "      <td>1</td>\n",
       "      <td>0</td>\n",
       "      <td>86.0</td>\n",
       "      <td>72.0</td>\n",
       "      <td>1.0</td>\n",
       "      <td>NaN</td>\n",
       "      <td>1.0</td>\n",
       "      <td>3.0</td>\n",
       "      <td>5</td>\n",
       "      <td>1</td>\n",
       "      <td>4.0</td>\n",
       "      <td>1</td>\n",
       "      <td>0</td>\n",
       "      <td>1.0</td>\n",
       "      <td>1</td>\n",
       "      <td>2006</td>\n",
       "    </tr>\n",
       "    <tr>\n",
       "      <th>2</th>\n",
       "      <td>41708664</td>\n",
       "      <td>0.974922</td>\n",
       "      <td>1</td>\n",
       "      <td>1</td>\n",
       "      <td>0</td>\n",
       "      <td>86.0</td>\n",
       "      <td>73.0</td>\n",
       "      <td>NaN</td>\n",
       "      <td>NaN</td>\n",
       "      <td>1.0</td>\n",
       "      <td>3.0</td>\n",
       "      <td>5</td>\n",
       "      <td>1</td>\n",
       "      <td>NaN</td>\n",
       "      <td>1</td>\n",
       "      <td>0</td>\n",
       "      <td>1.0</td>\n",
       "      <td>1</td>\n",
       "      <td>2007</td>\n",
       "    </tr>\n",
       "    <tr>\n",
       "      <th>3</th>\n",
       "      <td>41708664</td>\n",
       "      <td>0.974922</td>\n",
       "      <td>1</td>\n",
       "      <td>1</td>\n",
       "      <td>0</td>\n",
       "      <td>86.0</td>\n",
       "      <td>73.0</td>\n",
       "      <td>NaN</td>\n",
       "      <td>NaN</td>\n",
       "      <td>1.0</td>\n",
       "      <td>3.0</td>\n",
       "      <td>5</td>\n",
       "      <td>1</td>\n",
       "      <td>NaN</td>\n",
       "      <td>1</td>\n",
       "      <td>0</td>\n",
       "      <td>1.0</td>\n",
       "      <td>1</td>\n",
       "      <td>2007</td>\n",
       "    </tr>\n",
       "    <tr>\n",
       "      <th>4</th>\n",
       "      <td>41187947</td>\n",
       "      <td>0.974860</td>\n",
       "      <td>1</td>\n",
       "      <td>1</td>\n",
       "      <td>0</td>\n",
       "      <td>87.0</td>\n",
       "      <td>69.0</td>\n",
       "      <td>1.0</td>\n",
       "      <td>23.73</td>\n",
       "      <td>4.0</td>\n",
       "      <td>3.0</td>\n",
       "      <td>5</td>\n",
       "      <td>2</td>\n",
       "      <td>10.0</td>\n",
       "      <td>1</td>\n",
       "      <td>0</td>\n",
       "      <td>1.0</td>\n",
       "      <td>1</td>\n",
       "      <td>2002</td>\n",
       "    </tr>\n",
       "    <tr>\n",
       "      <th>...</th>\n",
       "      <td>...</td>\n",
       "      <td>...</td>\n",
       "      <td>...</td>\n",
       "      <td>...</td>\n",
       "      <td>...</td>\n",
       "      <td>...</td>\n",
       "      <td>...</td>\n",
       "      <td>...</td>\n",
       "      <td>...</td>\n",
       "      <td>...</td>\n",
       "      <td>...</td>\n",
       "      <td>...</td>\n",
       "      <td>...</td>\n",
       "      <td>...</td>\n",
       "      <td>...</td>\n",
       "      <td>...</td>\n",
       "      <td>...</td>\n",
       "      <td>...</td>\n",
       "      <td>...</td>\n",
       "    </tr>\n",
       "    <tr>\n",
       "      <th>12555</th>\n",
       "      <td>49785458</td>\n",
       "      <td>0.003307</td>\n",
       "      <td>0</td>\n",
       "      <td>0</td>\n",
       "      <td>0</td>\n",
       "      <td>56.0</td>\n",
       "      <td>42.0</td>\n",
       "      <td>NaN</td>\n",
       "      <td>28.09</td>\n",
       "      <td>1.0</td>\n",
       "      <td>3.0</td>\n",
       "      <td>4</td>\n",
       "      <td>3</td>\n",
       "      <td>9.0</td>\n",
       "      <td>1</td>\n",
       "      <td>0</td>\n",
       "      <td>1.0</td>\n",
       "      <td>0</td>\n",
       "      <td>2006</td>\n",
       "    </tr>\n",
       "    <tr>\n",
       "      <th>12556</th>\n",
       "      <td>49785458</td>\n",
       "      <td>0.003307</td>\n",
       "      <td>0</td>\n",
       "      <td>0</td>\n",
       "      <td>0</td>\n",
       "      <td>56.0</td>\n",
       "      <td>43.0</td>\n",
       "      <td>NaN</td>\n",
       "      <td>27.76</td>\n",
       "      <td>1.0</td>\n",
       "      <td>3.0</td>\n",
       "      <td>5</td>\n",
       "      <td>3</td>\n",
       "      <td>9.0</td>\n",
       "      <td>1</td>\n",
       "      <td>0</td>\n",
       "      <td>1.0</td>\n",
       "      <td>0</td>\n",
       "      <td>2007</td>\n",
       "    </tr>\n",
       "    <tr>\n",
       "      <th>12557</th>\n",
       "      <td>49785458</td>\n",
       "      <td>0.003307</td>\n",
       "      <td>0</td>\n",
       "      <td>0</td>\n",
       "      <td>0</td>\n",
       "      <td>56.0</td>\n",
       "      <td>44.0</td>\n",
       "      <td>NaN</td>\n",
       "      <td>27.76</td>\n",
       "      <td>3.0</td>\n",
       "      <td>3.0</td>\n",
       "      <td>4</td>\n",
       "      <td>3</td>\n",
       "      <td>9.0</td>\n",
       "      <td>0</td>\n",
       "      <td>0</td>\n",
       "      <td>1.0</td>\n",
       "      <td>0</td>\n",
       "      <td>2008</td>\n",
       "    </tr>\n",
       "    <tr>\n",
       "      <th>12558</th>\n",
       "      <td>49785458</td>\n",
       "      <td>0.003307</td>\n",
       "      <td>0</td>\n",
       "      <td>0</td>\n",
       "      <td>0</td>\n",
       "      <td>56.0</td>\n",
       "      <td>47.0</td>\n",
       "      <td>NaN</td>\n",
       "      <td>28.41</td>\n",
       "      <td>1.0</td>\n",
       "      <td>3.0</td>\n",
       "      <td>4</td>\n",
       "      <td>3</td>\n",
       "      <td>9.0</td>\n",
       "      <td>1</td>\n",
       "      <td>0</td>\n",
       "      <td>1.0</td>\n",
       "      <td>0</td>\n",
       "      <td>2011</td>\n",
       "    </tr>\n",
       "    <tr>\n",
       "      <th>12559</th>\n",
       "      <td>49785458</td>\n",
       "      <td>0.003307</td>\n",
       "      <td>0</td>\n",
       "      <td>0</td>\n",
       "      <td>0</td>\n",
       "      <td>56.0</td>\n",
       "      <td>49.0</td>\n",
       "      <td>NaN</td>\n",
       "      <td>28.08</td>\n",
       "      <td>1.0</td>\n",
       "      <td>3.0</td>\n",
       "      <td>3</td>\n",
       "      <td>3</td>\n",
       "      <td>10.0</td>\n",
       "      <td>1</td>\n",
       "      <td>0</td>\n",
       "      <td>1.0</td>\n",
       "      <td>0</td>\n",
       "      <td>2013</td>\n",
       "    </tr>\n",
       "  </tbody>\n",
       "</table>\n",
       "<p>12560 rows × 19 columns</p>\n",
       "</div>"
      ],
      "text/plain": [
       "       person_id       rnn  y_pred  y_real  gender   age  test_age  EGD  \\\n",
       "0       41708664  0.974922       1       1       0  86.0      72.0  1.0   \n",
       "1       41708664  0.974922       1       1       0  86.0      72.0  1.0   \n",
       "2       41708664  0.974922       1       1       0  86.0      73.0  NaN   \n",
       "3       41708664  0.974922       1       1       0  86.0      73.0  NaN   \n",
       "4       41187947  0.974860       1       1       0  87.0      69.0  1.0   \n",
       "...          ...       ...     ...     ...     ...   ...       ...  ...   \n",
       "12555   49785458  0.003307       0       0       0  56.0      42.0  NaN   \n",
       "12556   49785458  0.003307       0       0       0  56.0      43.0  NaN   \n",
       "12557   49785458  0.003307       0       0       0  56.0      44.0  NaN   \n",
       "12558   49785458  0.003307       0       0       0  56.0      47.0  NaN   \n",
       "12559   49785458  0.003307       0       0       0  56.0      49.0  NaN   \n",
       "\n",
       "         bmi  alcohol_habit  smoking status  smoking_duration  \\\n",
       "0        NaN            1.0             3.0                 5   \n",
       "1        NaN            1.0             3.0                 5   \n",
       "2        NaN            1.0             3.0                 5   \n",
       "3        NaN            1.0             3.0                 5   \n",
       "4      23.73            4.0             3.0                 5   \n",
       "...      ...            ...             ...               ...   \n",
       "12555  28.09            1.0             3.0                 4   \n",
       "12556  27.76            1.0             3.0                 5   \n",
       "12557  27.76            3.0             3.0                 4   \n",
       "12558  28.41            1.0             3.0                 4   \n",
       "12559  28.08            1.0             3.0                 3   \n",
       "\n",
       "       amount of smoking  income  family_cancer  current_status  exercise  \\\n",
       "0                      1     4.0              1               0       1.0   \n",
       "1                      1     4.0              1               0       1.0   \n",
       "2                      1     NaN              1               0       1.0   \n",
       "3                      1     NaN              1               0       1.0   \n",
       "4                      2    10.0              1               0       1.0   \n",
       "...                  ...     ...            ...             ...       ...   \n",
       "12555                  3     9.0              1               0       1.0   \n",
       "12556                  3     9.0              1               0       1.0   \n",
       "12557                  3     9.0              0               0       1.0   \n",
       "12558                  3     9.0              1               0       1.0   \n",
       "12559                  3    10.0              1               0       1.0   \n",
       "\n",
       "       cancer  date  \n",
       "0           1  2006  \n",
       "1           1  2006  \n",
       "2           1  2007  \n",
       "3           1  2007  \n",
       "4           1  2002  \n",
       "...       ...   ...  \n",
       "12555       0  2006  \n",
       "12556       0  2007  \n",
       "12557       0  2008  \n",
       "12558       0  2011  \n",
       "12559       0  2013  \n",
       "\n",
       "[12560 rows x 19 columns]"
      ]
     },
     "execution_count": 34,
     "metadata": {},
     "output_type": "execute_result"
    }
   ],
   "source": [
    "pre_df"
   ]
  },
  {
   "cell_type": "code",
   "execution_count": 35,
   "metadata": {},
   "outputs": [],
   "source": [
    "#pre_df.to_csv(\"DP_result.csv\",mode='w',index=False)"
   ]
  },
  {
   "cell_type": "code",
   "execution_count": null,
   "metadata": {},
   "outputs": [],
   "source": []
  }
 ],
 "metadata": {
  "kernelspec": {
   "display_name": "Python 3",
   "language": "python",
   "name": "python3"
  },
  "language_info": {
   "codemirror_mode": {
    "name": "ipython",
    "version": 3
   },
   "file_extension": ".py",
   "mimetype": "text/x-python",
   "name": "python",
   "nbconvert_exporter": "python",
   "pygments_lexer": "ipython3",
   "version": "3.7.3"
  }
 },
 "nbformat": 4,
 "nbformat_minor": 2
}
